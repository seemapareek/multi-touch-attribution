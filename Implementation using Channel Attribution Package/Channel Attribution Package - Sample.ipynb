{
 "cells": [
  {
   "cell_type": "markdown",
   "metadata": {},
   "source": [
    "## Installation\n",
    "\n",
    "pip install pychattr"
   ]
  },
  {
   "cell_type": "code",
   "execution_count": 3,
   "metadata": {},
   "outputs": [],
   "source": [
    "import pandas as pd\n",
    "from pychattr.channel_attribution import MarkovModel"
   ]
  },
  {
   "cell_type": "markdown",
   "metadata": {},
   "source": [
    "## Markov Model"
   ]
  },
  {
   "cell_type": "code",
   "execution_count": 4,
   "metadata": {},
   "outputs": [],
   "source": [
    "data = {\n",
    "    \"path\": [\n",
    "        \"A >>> B >>> A >>> B >>> B >>> A\",\n",
    "        \"A >>> B >>> B >>> A >>> A\",\n",
    "        \"A >>> A\"\n",
    "    ],\n",
    "    \"conversions\": [1, 1, 1],\n",
    "    \"revenue\": [1, 1, 1],\n",
    "    \"cost\": [1, 1, 1]\n",
    "}\n",
    "\n",
    "df = pd.DataFrame(data)\n",
    "\n",
    "path_feature=\"path\"\n",
    "conversion_feature=\"conversions\"\n",
    "null_feature=None\n",
    "revenue_feature=\"revenue\"\n",
    "cost_feature=\"cost\"\n",
    "separator=\">>>\"\n",
    "k_order=1\n",
    "n_simulations=10000\n",
    "max_steps=None\n",
    "return_transition_probs=True\n",
    "random_state=26"
   ]
  },
  {
   "cell_type": "code",
   "execution_count": 5,
   "metadata": {},
   "outputs": [
    {
     "data": {
      "text/html": [
       "<div>\n",
       "<style scoped>\n",
       "    .dataframe tbody tr th:only-of-type {\n",
       "        vertical-align: middle;\n",
       "    }\n",
       "\n",
       "    .dataframe tbody tr th {\n",
       "        vertical-align: top;\n",
       "    }\n",
       "\n",
       "    .dataframe thead th {\n",
       "        text-align: right;\n",
       "    }\n",
       "</style>\n",
       "<table border=\"1\" class=\"dataframe\">\n",
       "  <thead>\n",
       "    <tr style=\"text-align: right;\">\n",
       "      <th></th>\n",
       "      <th>path</th>\n",
       "      <th>conversions</th>\n",
       "      <th>revenue</th>\n",
       "      <th>cost</th>\n",
       "    </tr>\n",
       "  </thead>\n",
       "  <tbody>\n",
       "    <tr>\n",
       "      <th>0</th>\n",
       "      <td>A &gt;&gt;&gt; B &gt;&gt;&gt; A &gt;&gt;&gt; B &gt;&gt;&gt; B &gt;&gt;&gt; A</td>\n",
       "      <td>1</td>\n",
       "      <td>1</td>\n",
       "      <td>1</td>\n",
       "    </tr>\n",
       "    <tr>\n",
       "      <th>1</th>\n",
       "      <td>A &gt;&gt;&gt; B &gt;&gt;&gt; B &gt;&gt;&gt; A &gt;&gt;&gt; A</td>\n",
       "      <td>1</td>\n",
       "      <td>1</td>\n",
       "      <td>1</td>\n",
       "    </tr>\n",
       "    <tr>\n",
       "      <th>2</th>\n",
       "      <td>A &gt;&gt;&gt; A</td>\n",
       "      <td>1</td>\n",
       "      <td>1</td>\n",
       "      <td>1</td>\n",
       "    </tr>\n",
       "  </tbody>\n",
       "</table>\n",
       "</div>"
      ],
      "text/plain": [
       "                              path  conversions  revenue  cost\n",
       "0  A >>> B >>> A >>> B >>> B >>> A            1        1     1\n",
       "1        A >>> B >>> B >>> A >>> A            1        1     1\n",
       "2                          A >>> A            1        1     1"
      ]
     },
     "execution_count": 5,
     "metadata": {},
     "output_type": "execute_result"
    }
   ],
   "source": [
    "df.head()"
   ]
  },
  {
   "cell_type": "code",
   "execution_count": 6,
   "metadata": {},
   "outputs": [
    {
     "data": {
      "text/plain": [
       "<pychattr.channel_attribution.markov.MarkovModel at 0x22af7a45b70>"
      ]
     },
     "execution_count": 6,
     "metadata": {},
     "output_type": "execute_result"
    }
   ],
   "source": [
    "# instantiate the model\n",
    "mm = MarkovModel(path_feature=path_feature,\n",
    "                 conversion_feature=conversion_feature,\n",
    "                 null_feature=null_feature,\n",
    "                 revenue_feature=revenue_feature,\n",
    "                 cost_feature=cost_feature,\n",
    "                 separator=separator,\n",
    "                 k_order=k_order,\n",
    "                 n_simulations=n_simulations,\n",
    "                 max_steps=max_steps,\n",
    "                 return_transition_probs=return_transition_probs,\n",
    "                 random_state=random_state)\n",
    "\n",
    "# fit the model\n",
    "mm.fit(df)"
   ]
  },
  {
   "cell_type": "code",
   "execution_count": 7,
   "metadata": {},
   "outputs": [
    {
     "name": "stdout",
     "output_type": "stream",
     "text": [
      "  channel_name  total_conversions  total_revenue\n",
      "0            A           1.991767       1.991767\n",
      "1            B           1.008233       1.008233\n"
     ]
    }
   ],
   "source": [
    "# view the simulation results\n",
    "print(mm.attribution_model_)"
   ]
  },
  {
   "cell_type": "code",
   "execution_count": 8,
   "metadata": {},
   "outputs": [
    {
     "name": "stdout",
     "output_type": "stream",
     "text": [
      "  channel_from    channel_to  transition_probability\n",
      "0      (start)             A                   1.000\n",
      "1            A             B                   0.375\n",
      "2            A  (conversion)                   0.375\n",
      "3            A             A                   0.250\n",
      "4            B             A                   0.600\n",
      "5            B             B                   0.400\n"
     ]
    }
   ],
   "source": [
    "# view the transition matrix\n",
    "print(mm.transition_matrix_)"
   ]
  },
  {
   "cell_type": "code",
   "execution_count": 9,
   "metadata": {},
   "outputs": [
    {
     "name": "stdout",
     "output_type": "stream",
     "text": [
      "  channel_name  removal_effect  removal_effect_value\n",
      "0            A          1.0000                1.0000\n",
      "1            B          0.5062                0.5062\n"
     ]
    }
   ],
   "source": [
    "# view the removal effects\n",
    "print(mm.removal_effects_)"
   ]
  },
  {
   "cell_type": "code",
   "execution_count": null,
   "metadata": {},
   "outputs": [],
   "source": []
  }
 ],
 "metadata": {
  "kernelspec": {
   "display_name": "Python 3",
   "language": "python",
   "name": "python3"
  },
  "language_info": {
   "codemirror_mode": {
    "name": "ipython",
    "version": 3
   },
   "file_extension": ".py",
   "mimetype": "text/x-python",
   "name": "python",
   "nbconvert_exporter": "python",
   "pygments_lexer": "ipython3",
   "version": "3.6.5"
  }
 },
 "nbformat": 4,
 "nbformat_minor": 2
}
