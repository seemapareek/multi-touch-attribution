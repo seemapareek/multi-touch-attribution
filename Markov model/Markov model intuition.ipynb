{
 "cells": [
  {
   "cell_type": "markdown",
   "metadata": {},
   "source": [
    "## Markov model Initution with example"
   ]
  },
  {
   "cell_type": "markdown",
   "metadata": {},
   "source": [
    "How to qunatify channel A is better than channel B."
   ]
  },
  {
   "cell_type": "markdown",
   "metadata": {},
   "source": [
    "#### What is Markov Chain model\n",
    "\n",
    "* Markov chain model is a stochastic process in which the probability distribution of any next state depends only on what the current state is, disregarding any preceeding states and their sequence. \n",
    "* <b> Transition Matrix: </b>In multichannel attriution, we can use the Markov Chains to calculate the probability of interaction between pairs of media channels with the Transition Matrix.\n",
    "* <b> Removal Effect: </b> For each journey a given channel is removed and a conversion probability is calculated in order to determine each channel's contribution in conversions.\n",
    "The value attributed to a channel, then, is obtained by the ratio of the difference between the probability of conversion in general and the probability once said channel is removed over the general probability again.\n",
    "\n",
    "* the bigger a channel's removal effect, the larger their contribution is."
   ]
  },
  {
   "cell_type": "markdown",
   "metadata": {},
   "source": [
    "#### Let us first understand Markov model with a simple example\n",
    "\n",
    "Usecase : Total four paths, where Google Ads alone generated 2 conversions, mailing – 1 conversion, Google Ads with mailing – 1 conversion, and also once user that came from Google Ads didn’t converted at all (0 conversions).\n",
    "\n",
    "![title](img/img1.png)\n",
    "\n",
    "* path => conv\n",
    "* google ads => 2\n",
    "* mailing => 1\n",
    "* google ads > mailing => 1\n",
    "* google ads => 0\n",
    "\n",
    "\n",
    "In case of Markov Chains – we should have the initial state and the final state. The initial state could be “start” (this is where our user starts his journey), and the final state will be “conv” or “null” (depending on if our user finished his path with conversion or not). Also we should remember, that now our paths are grouped, so we have the sum of conversions in second column. For easier understanding – let's transform our data:\n",
    "\n",
    "![title](img/img2.png)\n",
    "\n",
    "Based on that data we can count how often our users came from one state to another, and calculate the probabilities of that transitions. First of all we should understand what is the sum of transitions for each channel:\n",
    "\n",
    "![title](img/img3.png)\n",
    "\n",
    "Then we can calculate the probability of transition for each state:\n",
    "\n",
    "![title](img/img4.png)\n",
    "![title](img/img5.png)\n",
    "\n",
    "Based on that data we can build the graphs:\n",
    "![title](img/img6.png)\n",
    "\n",
    "The left one represents the sum of transitions, and the right one – the probabilities of that transitions.\n",
    "Now it's time to calculate the conversion rate of our model. In order to do that – we should sum the probabilities of all possible ways, when user finishes his journey with a conversion:\n",
    "\n",
    "![title](img/img7.png)\n",
    "\n",
    "0.2*1.0 + 0.8*0.25*1.0 + 0.8*0.5 = 0.8\n",
    "\n",
    "So conversion rate of our model is 80%.\n",
    "\n",
    "Now we can calculate the removal effect for each channel. We should remove each channel from our model – and calculate how it will affect our conversion rate.\n",
    "\n",
    "![title](img/img8.png)\n",
    "\n",
    "Conversion rate of our model without Google Ads:\n",
    "0.2*1.0 = 0.2\n",
    "\n",
    "Lest calculate the removal effect:\n",
    "1 – (0.2 / 0.8) = 0.75\n",
    "\n",
    "So the removal effect of Google Ads is 75%. That means that\n",
    "theoretically we could loose 75% of all our conversion if we didn’t have that channel.\n",
    "\n",
    "\n",
    "Lets do the same calculations for mailing:\n",
    "Conversion rate: 0.8*0.5 = 0.4\n",
    "\n",
    "1 – (0.4 / 0.8) = 0.5\n",
    "\n",
    "\n",
    "Removal effect of mailing is 50%\n",
    "\n",
    "Lets cacluate the Markov chains attributions for each channel.\n",
    "\n",
    "Attribution of channel = channel's removal effect / (Sum of removal effect of all the channels) * total conversions paths.\n",
    "\n",
    "Attribution for Google Ads = 0.75/(0.75 + 0.5) * 4 = 2.4\n",
    "\n",
    "Attribution for Mailing = 0.5/(0.75 + 0.5) * 4 = 1.6\n",
    "\n",
    "\n",
    "#### Conclusion\n",
    "Out of the 4 converion paths, 2.4 paths will be attributed to Google ads and 1.6 paths will be attributed to Mailing."
   ]
  },
  {
   "cell_type": "code",
   "execution_count": null,
   "metadata": {},
   "outputs": [],
   "source": []
  }
 ],
 "metadata": {
  "kernelspec": {
   "display_name": "Python 3",
   "language": "python",
   "name": "python3"
  },
  "language_info": {
   "codemirror_mode": {
    "name": "ipython",
    "version": 3
   },
   "file_extension": ".py",
   "mimetype": "text/x-python",
   "name": "python",
   "nbconvert_exporter": "python",
   "pygments_lexer": "ipython3",
   "version": "3.6.5"
  }
 },
 "nbformat": 4,
 "nbformat_minor": 2
}
