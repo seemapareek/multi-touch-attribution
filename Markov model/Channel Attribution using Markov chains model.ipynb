{
 "cells": [
  {
   "cell_type": "code",
   "execution_count": 1,
   "metadata": {},
   "outputs": [],
   "source": [
    "import pandas as pd\n",
    "import numpy as np\n",
    "from datetime import datetime\n",
    "from collections import defaultdict\n",
    "\n",
    "import warnings\n",
    "warnings.filterwarnings(\"ignore\")"
   ]
  },
  {
   "cell_type": "code",
   "execution_count": 4,
   "metadata": {},
   "outputs": [
    {
     "data": {
      "text/html": [
       "<div>\n",
       "<style scoped>\n",
       "    .dataframe tbody tr th:only-of-type {\n",
       "        vertical-align: middle;\n",
       "    }\n",
       "\n",
       "    .dataframe tbody tr th {\n",
       "        vertical-align: top;\n",
       "    }\n",
       "\n",
       "    .dataframe thead th {\n",
       "        text-align: right;\n",
       "    }\n",
       "</style>\n",
       "<table border=\"1\" class=\"dataframe\">\n",
       "  <thead>\n",
       "    <tr style=\"text-align: right;\">\n",
       "      <th></th>\n",
       "      <th>cookie</th>\n",
       "      <th>time</th>\n",
       "      <th>interaction</th>\n",
       "      <th>conversion</th>\n",
       "      <th>conversion_value</th>\n",
       "      <th>channel</th>\n",
       "    </tr>\n",
       "  </thead>\n",
       "  <tbody>\n",
       "    <tr>\n",
       "      <th>0</th>\n",
       "      <td>00000FkCnDfDDf0iC97iC703B</td>\n",
       "      <td>2018-07-03T13:02:11Z</td>\n",
       "      <td>impression</td>\n",
       "      <td>0</td>\n",
       "      <td>0.0</td>\n",
       "      <td>Instagram</td>\n",
       "    </tr>\n",
       "    <tr>\n",
       "      <th>1</th>\n",
       "      <td>00000FkCnDfDDf0iC97iC703B</td>\n",
       "      <td>2018-07-17T19:15:07Z</td>\n",
       "      <td>impression</td>\n",
       "      <td>0</td>\n",
       "      <td>0.0</td>\n",
       "      <td>Online Display</td>\n",
       "    </tr>\n",
       "    <tr>\n",
       "      <th>2</th>\n",
       "      <td>00000FkCnDfDDf0iC97iC703B</td>\n",
       "      <td>2018-07-24T15:51:46Z</td>\n",
       "      <td>impression</td>\n",
       "      <td>0</td>\n",
       "      <td>0.0</td>\n",
       "      <td>Online Display</td>\n",
       "    </tr>\n",
       "    <tr>\n",
       "      <th>3</th>\n",
       "      <td>00000FkCnDfDDf0iC97iC703B</td>\n",
       "      <td>2018-07-29T07:44:51Z</td>\n",
       "      <td>impression</td>\n",
       "      <td>0</td>\n",
       "      <td>0.0</td>\n",
       "      <td>Online Display</td>\n",
       "    </tr>\n",
       "    <tr>\n",
       "      <th>4</th>\n",
       "      <td>0000nACkD9nFkBBDECD3ki00E</td>\n",
       "      <td>2018-07-03T09:44:57Z</td>\n",
       "      <td>impression</td>\n",
       "      <td>0</td>\n",
       "      <td>0.0</td>\n",
       "      <td>Paid Search</td>\n",
       "    </tr>\n",
       "  </tbody>\n",
       "</table>\n",
       "</div>"
      ],
      "text/plain": [
       "                      cookie                  time interaction  conversion  \\\n",
       "0  00000FkCnDfDDf0iC97iC703B  2018-07-03T13:02:11Z  impression           0   \n",
       "1  00000FkCnDfDDf0iC97iC703B  2018-07-17T19:15:07Z  impression           0   \n",
       "2  00000FkCnDfDDf0iC97iC703B  2018-07-24T15:51:46Z  impression           0   \n",
       "3  00000FkCnDfDDf0iC97iC703B  2018-07-29T07:44:51Z  impression           0   \n",
       "4  0000nACkD9nFkBBDECD3ki00E  2018-07-03T09:44:57Z  impression           0   \n",
       "\n",
       "   conversion_value         channel  \n",
       "0               0.0       Instagram  \n",
       "1               0.0  Online Display  \n",
       "2               0.0  Online Display  \n",
       "3               0.0  Online Display  \n",
       "4               0.0     Paid Search  "
      ]
     },
     "execution_count": 4,
     "metadata": {},
     "output_type": "execute_result"
    }
   ],
   "source": [
    "df = pd.read_csv('../attribution data.csv')\n",
    "df.head()"
   ]
  },
  {
   "cell_type": "markdown",
   "metadata": {},
   "source": [
    "## Dataset details\n",
    "* Cookie: Randomly generated customer id enabling us to tie subsequent visits back to the same customer\n",
    "* Timestamp: Date and time when the visit took place\n",
    "* Interaction: Categorical variable indicating the type of interaction that took place\n",
    "* Conversion: Boolean variable indicating whether a conversion took place\n",
    "* Conversion Value: Value of the potential conversion event\n",
    "* Channel: The marketing channel that brought the customer to our site"
   ]
  },
  {
   "cell_type": "code",
   "execution_count": 5,
   "metadata": {},
   "outputs": [
    {
     "name": "stdout",
     "output_type": "stream",
     "text": [
      "Summary Statistics of the data\n",
      "------------------------------\n",
      "Dataset size: 586737\n",
      "Total number of channels/marketing touchpoints: 5 ['Instagram' 'Online Display' 'Paid Search' 'Facebook' 'Online Video']\n",
      "Total Unique customers: 240108\n",
      "Total number of conversions: 17639\n"
     ]
    }
   ],
   "source": [
    "print(\"Summary Statistics of the data\")\n",
    "print(\"------------------------------\")\n",
    "print(\"Dataset size:\", df.shape[0])\n",
    "print(\"Total number of channels/marketing touchpoints:\", df['channel'].unique().shape[0], df['channel'].unique())\n",
    "print(\"Total Unique customers:\", df['cookie'].unique().shape[0])\n",
    "print(\"Total number of conversions:\", df[df['conversion']==1].shape[0])"
   ]
  },
  {
   "cell_type": "code",
   "execution_count": 6,
   "metadata": {},
   "outputs": [],
   "source": [
    "df = df.sort_values(['cookie', 'time'],ascending=[False, True])\n",
    "df['visit_order'] = df.groupby('cookie').cumcount() + 1"
   ]
  },
  {
   "cell_type": "code",
   "execution_count": 7,
   "metadata": {},
   "outputs": [
    {
     "data": {
      "text/html": [
       "<div>\n",
       "<style scoped>\n",
       "    .dataframe tbody tr th:only-of-type {\n",
       "        vertical-align: middle;\n",
       "    }\n",
       "\n",
       "    .dataframe tbody tr th {\n",
       "        vertical-align: top;\n",
       "    }\n",
       "\n",
       "    .dataframe thead th {\n",
       "        text-align: right;\n",
       "    }\n",
       "</style>\n",
       "<table border=\"1\" class=\"dataframe\">\n",
       "  <thead>\n",
       "    <tr style=\"text-align: right;\">\n",
       "      <th></th>\n",
       "      <th>cookie</th>\n",
       "      <th>time</th>\n",
       "      <th>interaction</th>\n",
       "      <th>conversion</th>\n",
       "      <th>conversion_value</th>\n",
       "      <th>channel</th>\n",
       "      <th>visit_order</th>\n",
       "    </tr>\n",
       "  </thead>\n",
       "  <tbody>\n",
       "    <tr>\n",
       "      <th>586736</th>\n",
       "      <td>ooooohAFofEnonEikhAi3fF9o</td>\n",
       "      <td>2018-07-14T17:17:12Z</td>\n",
       "      <td>impression</td>\n",
       "      <td>0</td>\n",
       "      <td>0.0</td>\n",
       "      <td>Paid Search</td>\n",
       "      <td>1</td>\n",
       "    </tr>\n",
       "    <tr>\n",
       "      <th>586734</th>\n",
       "      <td>ooooiBh70D3k3BfAhDFfii9h7</td>\n",
       "      <td>2018-07-03T12:57:25Z</td>\n",
       "      <td>impression</td>\n",
       "      <td>0</td>\n",
       "      <td>0.0</td>\n",
       "      <td>Paid Search</td>\n",
       "      <td>1</td>\n",
       "    </tr>\n",
       "    <tr>\n",
       "      <th>586735</th>\n",
       "      <td>ooooiBh70D3k3BfAhDFfii9h7</td>\n",
       "      <td>2018-07-19T08:17:59Z</td>\n",
       "      <td>impression</td>\n",
       "      <td>0</td>\n",
       "      <td>0.0</td>\n",
       "      <td>Online Video</td>\n",
       "      <td>2</td>\n",
       "    </tr>\n",
       "    <tr>\n",
       "      <th>586731</th>\n",
       "      <td>ooooEiB0CCoEf9fiiC90Dfhfk</td>\n",
       "      <td>2018-07-06T23:30:38Z</td>\n",
       "      <td>impression</td>\n",
       "      <td>0</td>\n",
       "      <td>0.0</td>\n",
       "      <td>Online Display</td>\n",
       "      <td>1</td>\n",
       "    </tr>\n",
       "    <tr>\n",
       "      <th>586732</th>\n",
       "      <td>ooooEiB0CCoEf9fiiC90Dfhfk</td>\n",
       "      <td>2018-07-12T23:50:45Z</td>\n",
       "      <td>impression</td>\n",
       "      <td>0</td>\n",
       "      <td>0.0</td>\n",
       "      <td>Online Display</td>\n",
       "      <td>2</td>\n",
       "    </tr>\n",
       "  </tbody>\n",
       "</table>\n",
       "</div>"
      ],
      "text/plain": [
       "                           cookie                  time interaction  \\\n",
       "586736  ooooohAFofEnonEikhAi3fF9o  2018-07-14T17:17:12Z  impression   \n",
       "586734  ooooiBh70D3k3BfAhDFfii9h7  2018-07-03T12:57:25Z  impression   \n",
       "586735  ooooiBh70D3k3BfAhDFfii9h7  2018-07-19T08:17:59Z  impression   \n",
       "586731  ooooEiB0CCoEf9fiiC90Dfhfk  2018-07-06T23:30:38Z  impression   \n",
       "586732  ooooEiB0CCoEf9fiiC90Dfhfk  2018-07-12T23:50:45Z  impression   \n",
       "\n",
       "        conversion  conversion_value         channel  visit_order  \n",
       "586736           0               0.0     Paid Search            1  \n",
       "586734           0               0.0     Paid Search            1  \n",
       "586735           0               0.0    Online Video            2  \n",
       "586731           0               0.0  Online Display            1  \n",
       "586732           0               0.0  Online Display            2  "
      ]
     },
     "execution_count": 7,
     "metadata": {},
     "output_type": "execute_result"
    }
   ],
   "source": [
    "df.head()"
   ]
  },
  {
   "cell_type": "markdown",
   "metadata": {},
   "source": [
    "## Generating user journey paths\n",
    "User-journey in a list of touch-points.\n",
    "\n",
    "1. For each cookie, group the channels into a list\n",
    "2. Calculate the last touch channel resulted in conversion/non conversion for each cookie (visitor)\n",
    "3. Merging above two will give you cookie, channel and conversion.\n",
    "4. For each path, now we will append Start, Converted & Null based on onversion column in order to generate complete user journey paths for each cookie.\n"
   ]
  },
  {
   "cell_type": "code",
   "execution_count": 8,
   "metadata": {},
   "outputs": [
    {
     "name": "stdout",
     "output_type": "stream",
     "text": [
      "                      cookie                      channel  conversion\n",
      "0  00000FkCnDfDDf0iC97iC703B  [Instagram, Online Display]           0\n",
      "1  0000nACkD9nFkBBDECD3ki00E                [Paid Search]           0\n",
      "2  0003EfE37E93D0BC03iBhBBhF                [Paid Search]           0\n",
      "3  00073CFE3FoFCn70fBhB3kfon                  [Instagram]           0\n",
      "4  00079hhBkDF3k3kDkiFi9EFAD                [Paid Search]           0\n"
     ]
    }
   ],
   "source": [
    "df_paths = df.groupby('cookie')['channel'].aggregate(lambda x: x.unique().tolist()).reset_index()\n",
    "df_last_interaction = df.drop_duplicates('cookie',keep ='last')[['cookie', 'conversion']]\n",
    "df_paths = pd.merge(df_paths, df_last_interaction, how='left', on = ['cookie'])\n",
    "\n",
    "print(df_paths.head())\n",
    "df_paths['path'] = np.where(\n",
    "    df_paths['conversion'] == 0,\n",
    "    df_paths['channel'].apply(lambda x: ['Start'] + x + ['Null']),\n",
    "    df_paths['channel'].apply(lambda x: ['Start'] + x + ['Converted']))\n",
    "\n",
    "df_paths.drop(['channel', 'conversion'], axis=1, inplace=True)"
   ]
  },
  {
   "cell_type": "code",
   "execution_count": 9,
   "metadata": {},
   "outputs": [
    {
     "data": {
      "text/html": [
       "<div>\n",
       "<style scoped>\n",
       "    .dataframe tbody tr th:only-of-type {\n",
       "        vertical-align: middle;\n",
       "    }\n",
       "\n",
       "    .dataframe tbody tr th {\n",
       "        vertical-align: top;\n",
       "    }\n",
       "\n",
       "    .dataframe thead th {\n",
       "        text-align: right;\n",
       "    }\n",
       "</style>\n",
       "<table border=\"1\" class=\"dataframe\">\n",
       "  <thead>\n",
       "    <tr style=\"text-align: right;\">\n",
       "      <th></th>\n",
       "      <th>cookie</th>\n",
       "      <th>path</th>\n",
       "    </tr>\n",
       "  </thead>\n",
       "  <tbody>\n",
       "    <tr>\n",
       "      <th>0</th>\n",
       "      <td>00000FkCnDfDDf0iC97iC703B</td>\n",
       "      <td>[Start, Instagram, Online Display, Null]</td>\n",
       "    </tr>\n",
       "    <tr>\n",
       "      <th>1</th>\n",
       "      <td>0000nACkD9nFkBBDECD3ki00E</td>\n",
       "      <td>[Start, Paid Search, Null]</td>\n",
       "    </tr>\n",
       "    <tr>\n",
       "      <th>2</th>\n",
       "      <td>0003EfE37E93D0BC03iBhBBhF</td>\n",
       "      <td>[Start, Paid Search, Null]</td>\n",
       "    </tr>\n",
       "    <tr>\n",
       "      <th>3</th>\n",
       "      <td>00073CFE3FoFCn70fBhB3kfon</td>\n",
       "      <td>[Start, Instagram, Null]</td>\n",
       "    </tr>\n",
       "    <tr>\n",
       "      <th>4</th>\n",
       "      <td>00079hhBkDF3k3kDkiFi9EFAD</td>\n",
       "      <td>[Start, Paid Search, Null]</td>\n",
       "    </tr>\n",
       "  </tbody>\n",
       "</table>\n",
       "</div>"
      ],
      "text/plain": [
       "                      cookie                                      path\n",
       "0  00000FkCnDfDDf0iC97iC703B  [Start, Instagram, Online Display, Null]\n",
       "1  0000nACkD9nFkBBDECD3ki00E                [Start, Paid Search, Null]\n",
       "2  0003EfE37E93D0BC03iBhBBhF                [Start, Paid Search, Null]\n",
       "3  00073CFE3FoFCn70fBhB3kfon                  [Start, Instagram, Null]\n",
       "4  00079hhBkDF3k3kDkiFi9EFAD                [Start, Paid Search, Null]"
      ]
     },
     "execution_count": 9,
     "metadata": {},
     "output_type": "execute_result"
    }
   ],
   "source": [
    "df_paths.head()"
   ]
  },
  {
   "cell_type": "markdown",
   "metadata": {},
   "source": [
    "## Markov Chains model\n",
    "It will be implmented in 2 steps\n",
    "1. Calculate transition probabilities between all states in state-space\n",
    "2. Calculate removal effects\n",
    "\n",
    "\n",
    "We’ll start by defining a list of all user journeys, the number of total conversion and the base level conversion rate."
   ]
  },
  {
   "cell_type": "code",
   "execution_count": 10,
   "metadata": {},
   "outputs": [
    {
     "data": {
      "text/plain": [
       "(240108, 17639, 0.07346277508454528)"
      ]
     },
     "execution_count": 10,
     "metadata": {},
     "output_type": "execute_result"
    }
   ],
   "source": [
    "list_of_paths = df_paths['path']\n",
    "total_conversions = [sum(path.count('Converted') for path in list_of_paths)][0]\n",
    "base_conversion_rate = total_conversions / len(list_of_paths)\n",
    "list_of_unique_channels = list(df['channel'].unique()) + ['Start', 'Null', 'Converted']\n",
    "\n",
    "len(list_of_paths), total_conversions, base_conversion_rate"
   ]
  },
  {
   "cell_type": "markdown",
   "metadata": {},
   "source": [
    "* We will calculate all potential state transitions and use this as an input when calculating transition probabilities.\n",
    "* Converting transition probabilities to transition matrix."
   ]
  },
  {
   "cell_type": "code",
   "execution_count": 11,
   "metadata": {},
   "outputs": [],
   "source": [
    "def transition_states(list_of_paths):\n",
    "    transition_states = {x + '>' + y: 0 for x in list_of_unique_channels for y in list_of_unique_channels}\n",
    "\n",
    "    for possible_state in list_of_unique_channels:\n",
    "        if possible_state not in ['Converted', 'Null']:\n",
    "            for user_path in list_of_paths:\n",
    "                if possible_state in user_path:\n",
    "                    indices = [i for i, s in enumerate(user_path) if possible_state in s]\n",
    "                    for col in indices:\n",
    "                        transition_states[user_path[col] + '>' + user_path[col + 1]] += 1\n",
    "\n",
    "    return transition_states\n",
    "\n",
    "def transition_prob(trans_dict):\n",
    "    trans_prob = defaultdict(dict)\n",
    "    for state in list_of_unique_channels:\n",
    "        if state not in ['Converted', 'Null']:\n",
    "            counter = 0\n",
    "            index = [i for i, s in enumerate(trans_dict) if state + '>' in s]\n",
    "            for col in index:\n",
    "                if trans_dict[list(trans_dict)[col]] > 0:\n",
    "                    counter += trans_dict[list(trans_dict)[col]]\n",
    "            for col in index:\n",
    "                if trans_dict[list(trans_dict)[col]] > 0:\n",
    "                    state_prob = float((trans_dict[list(trans_dict)[col]])) / float(counter)\n",
    "                    trans_prob[list(trans_dict)[col]] = np.round(state_prob,3)\n",
    "\n",
    "    return trans_prob\n",
    "\n",
    "def transition_matrix(list_of_paths, transition_probabilities):\n",
    "    trans_matrix = pd.DataFrame()\n",
    "    list_of_unique_channels = set(x for element in list_of_paths for x in element)\n",
    "\n",
    "    for channel in list_of_unique_channels:\n",
    "        trans_matrix[channel] = 0.00\n",
    "        trans_matrix.loc[channel] = 0.00\n",
    "        trans_matrix.loc[channel][channel] = 1.0 if channel in ['Converted', 'Null'] else 0.0\n",
    "\n",
    "    for key, value in transition_probabilities.items():\n",
    "        origin, destination = key.split('>')\n",
    "        trans_matrix.at[origin, destination] = value\n",
    "\n",
    "    return trans_matrix"
   ]
  },
  {
   "cell_type": "markdown",
   "metadata": {},
   "source": [
    "## Transition probabilities"
   ]
  },
  {
   "cell_type": "code",
   "execution_count": 12,
   "metadata": {},
   "outputs": [],
   "source": [
    "trans_states = transition_states(list_of_paths)\n",
    "trans_prob = transition_prob(trans_states)\n",
    "trans_matrix = transition_matrix(list_of_paths, trans_prob)"
   ]
  },
  {
   "cell_type": "code",
   "execution_count": 13,
   "metadata": {},
   "outputs": [
    {
     "name": "stdout",
     "output_type": "stream",
     "text": [
      "550105\n"
     ]
    },
    {
     "data": {
      "text/plain": [
       "{'Paid Search>Paid Search': 0,\n",
       " 'Paid Search>Online Video': 2596,\n",
       " 'Paid Search>Online Display': 4269,\n",
       " 'Paid Search>Instagram': 3038,\n",
       " 'Paid Search>Facebook': 5725,\n",
       " 'Paid Search>Start': 0,\n",
       " 'Paid Search>Null': 68476,\n",
       " 'Paid Search>Converted': 4736,\n",
       " 'Online Video>Paid Search': 1964,\n",
       " 'Online Video>Online Video': 0,\n",
       " 'Online Video>Online Display': 775,\n",
       " 'Online Video>Instagram': 1307,\n",
       " 'Online Video>Facebook': 2430,\n",
       " 'Online Video>Start': 0,\n",
       " 'Online Video>Null': 31285,\n",
       " 'Online Video>Converted': 3201,\n",
       " 'Online Display>Paid Search': 3936,\n",
       " 'Online Display>Online Video': 737,\n",
       " 'Online Display>Online Display': 0,\n",
       " 'Online Display>Instagram': 1251,\n",
       " 'Online Display>Facebook': 2300,\n",
       " 'Online Display>Start': 0,\n",
       " 'Online Display>Null': 32236,\n",
       " 'Online Display>Converted': 2144,\n",
       " 'Instagram>Paid Search': 2266,\n",
       " 'Instagram>Online Video': 1193,\n",
       " 'Instagram>Online Display': 1164,\n",
       " 'Instagram>Instagram': 0,\n",
       " 'Instagram>Facebook': 10822,\n",
       " 'Instagram>Start': 0,\n",
       " 'Instagram>Null': 31153,\n",
       " 'Instagram>Converted': 2868,\n",
       " 'Facebook>Paid Search': 4464,\n",
       " 'Facebook>Online Video': 2254,\n",
       " 'Facebook>Online Display': 2146,\n",
       " 'Facebook>Instagram': 15252,\n",
       " 'Facebook>Facebook': 0,\n",
       " 'Facebook>Start': 0,\n",
       " 'Facebook>Null': 59319,\n",
       " 'Facebook>Converted': 4690,\n",
       " 'Start>Paid Search': 76210,\n",
       " 'Start>Online Video': 34182,\n",
       " 'Start>Online Display': 34250,\n",
       " 'Start>Instagram': 28618,\n",
       " 'Start>Facebook': 66848,\n",
       " 'Start>Start': 0,\n",
       " 'Start>Null': 0,\n",
       " 'Start>Converted': 0,\n",
       " 'Null>Paid Search': 0,\n",
       " 'Null>Online Video': 0,\n",
       " 'Null>Online Display': 0,\n",
       " 'Null>Instagram': 0,\n",
       " 'Null>Facebook': 0,\n",
       " 'Null>Start': 0,\n",
       " 'Null>Null': 0,\n",
       " 'Null>Converted': 0,\n",
       " 'Converted>Paid Search': 0,\n",
       " 'Converted>Online Video': 0,\n",
       " 'Converted>Online Display': 0,\n",
       " 'Converted>Instagram': 0,\n",
       " 'Converted>Facebook': 0,\n",
       " 'Converted>Start': 0,\n",
       " 'Converted>Null': 0,\n",
       " 'Converted>Converted': 0}"
      ]
     },
     "execution_count": 13,
     "metadata": {},
     "output_type": "execute_result"
    }
   ],
   "source": [
    "print(np.sum(list(trans_states.values())))\n",
    "trans_states"
   ]
  },
  {
   "cell_type": "code",
   "execution_count": 14,
   "metadata": {},
   "outputs": [
    {
     "data": {
      "text/plain": [
       "defaultdict(dict,\n",
       "            {'Paid Search>Online Video': 0.029,\n",
       "             'Paid Search>Online Display': 0.048,\n",
       "             'Paid Search>Instagram': 0.034,\n",
       "             'Paid Search>Facebook': 0.064,\n",
       "             'Paid Search>Null': 0.771,\n",
       "             'Paid Search>Converted': 0.053,\n",
       "             'Online Video>Paid Search': 0.048,\n",
       "             'Online Video>Online Display': 0.019,\n",
       "             'Online Video>Instagram': 0.032,\n",
       "             'Online Video>Facebook': 0.059,\n",
       "             'Online Video>Null': 0.764,\n",
       "             'Online Video>Converted': 0.078,\n",
       "             'Online Display>Paid Search': 0.092,\n",
       "             'Online Display>Online Video': 0.017,\n",
       "             'Online Display>Instagram': 0.029,\n",
       "             'Online Display>Facebook': 0.054,\n",
       "             'Online Display>Null': 0.757,\n",
       "             'Online Display>Converted': 0.05,\n",
       "             'Instagram>Paid Search': 0.046,\n",
       "             'Instagram>Online Video': 0.024,\n",
       "             'Instagram>Online Display': 0.024,\n",
       "             'Instagram>Facebook': 0.219,\n",
       "             'Instagram>Null': 0.63,\n",
       "             'Instagram>Converted': 0.058,\n",
       "             'Facebook>Paid Search': 0.051,\n",
       "             'Facebook>Online Video': 0.026,\n",
       "             'Facebook>Online Display': 0.024,\n",
       "             'Facebook>Instagram': 0.173,\n",
       "             'Facebook>Null': 0.673,\n",
       "             'Facebook>Converted': 0.053,\n",
       "             'Start>Paid Search': 0.317,\n",
       "             'Start>Online Video': 0.142,\n",
       "             'Start>Online Display': 0.143,\n",
       "             'Start>Instagram': 0.119,\n",
       "             'Start>Facebook': 0.278})"
      ]
     },
     "execution_count": 14,
     "metadata": {},
     "output_type": "execute_result"
    }
   ],
   "source": [
    "#print(2596/(2596 + 4269 + 3038+5725 + 68476 + 4736), 4269/(2596 + 4269 + 3038+5725 + 68476 + 4736))\n",
    "trans_prob"
   ]
  },
  {
   "cell_type": "code",
   "execution_count": 15,
   "metadata": {},
   "outputs": [
    {
     "data": {
      "text/html": [
       "<div>\n",
       "<style scoped>\n",
       "    .dataframe tbody tr th:only-of-type {\n",
       "        vertical-align: middle;\n",
       "    }\n",
       "\n",
       "    .dataframe tbody tr th {\n",
       "        vertical-align: top;\n",
       "    }\n",
       "\n",
       "    .dataframe thead th {\n",
       "        text-align: right;\n",
       "    }\n",
       "</style>\n",
       "<table border=\"1\" class=\"dataframe\">\n",
       "  <thead>\n",
       "    <tr style=\"text-align: right;\">\n",
       "      <th></th>\n",
       "      <th>Converted</th>\n",
       "      <th>Online Display</th>\n",
       "      <th>Null</th>\n",
       "      <th>Online Video</th>\n",
       "      <th>Start</th>\n",
       "      <th>Paid Search</th>\n",
       "      <th>Facebook</th>\n",
       "      <th>Instagram</th>\n",
       "    </tr>\n",
       "  </thead>\n",
       "  <tbody>\n",
       "    <tr>\n",
       "      <th>Converted</th>\n",
       "      <td>1.000</td>\n",
       "      <td>0.000</td>\n",
       "      <td>0.000</td>\n",
       "      <td>0.000</td>\n",
       "      <td>0.0</td>\n",
       "      <td>0.000</td>\n",
       "      <td>0.000</td>\n",
       "      <td>0.000</td>\n",
       "    </tr>\n",
       "    <tr>\n",
       "      <th>Online Display</th>\n",
       "      <td>0.050</td>\n",
       "      <td>0.000</td>\n",
       "      <td>0.757</td>\n",
       "      <td>0.017</td>\n",
       "      <td>0.0</td>\n",
       "      <td>0.092</td>\n",
       "      <td>0.054</td>\n",
       "      <td>0.029</td>\n",
       "    </tr>\n",
       "    <tr>\n",
       "      <th>Null</th>\n",
       "      <td>0.000</td>\n",
       "      <td>0.000</td>\n",
       "      <td>1.000</td>\n",
       "      <td>0.000</td>\n",
       "      <td>0.0</td>\n",
       "      <td>0.000</td>\n",
       "      <td>0.000</td>\n",
       "      <td>0.000</td>\n",
       "    </tr>\n",
       "    <tr>\n",
       "      <th>Online Video</th>\n",
       "      <td>0.078</td>\n",
       "      <td>0.019</td>\n",
       "      <td>0.764</td>\n",
       "      <td>0.000</td>\n",
       "      <td>0.0</td>\n",
       "      <td>0.048</td>\n",
       "      <td>0.059</td>\n",
       "      <td>0.032</td>\n",
       "    </tr>\n",
       "    <tr>\n",
       "      <th>Start</th>\n",
       "      <td>0.000</td>\n",
       "      <td>0.143</td>\n",
       "      <td>0.000</td>\n",
       "      <td>0.142</td>\n",
       "      <td>0.0</td>\n",
       "      <td>0.317</td>\n",
       "      <td>0.278</td>\n",
       "      <td>0.119</td>\n",
       "    </tr>\n",
       "    <tr>\n",
       "      <th>Paid Search</th>\n",
       "      <td>0.053</td>\n",
       "      <td>0.048</td>\n",
       "      <td>0.771</td>\n",
       "      <td>0.029</td>\n",
       "      <td>0.0</td>\n",
       "      <td>0.000</td>\n",
       "      <td>0.064</td>\n",
       "      <td>0.034</td>\n",
       "    </tr>\n",
       "    <tr>\n",
       "      <th>Facebook</th>\n",
       "      <td>0.053</td>\n",
       "      <td>0.024</td>\n",
       "      <td>0.673</td>\n",
       "      <td>0.026</td>\n",
       "      <td>0.0</td>\n",
       "      <td>0.051</td>\n",
       "      <td>0.000</td>\n",
       "      <td>0.173</td>\n",
       "    </tr>\n",
       "    <tr>\n",
       "      <th>Instagram</th>\n",
       "      <td>0.058</td>\n",
       "      <td>0.024</td>\n",
       "      <td>0.630</td>\n",
       "      <td>0.024</td>\n",
       "      <td>0.0</td>\n",
       "      <td>0.046</td>\n",
       "      <td>0.219</td>\n",
       "      <td>0.000</td>\n",
       "    </tr>\n",
       "  </tbody>\n",
       "</table>\n",
       "</div>"
      ],
      "text/plain": [
       "                Converted  Online Display   Null  Online Video  Start  \\\n",
       "Converted           1.000           0.000  0.000         0.000    0.0   \n",
       "Online Display      0.050           0.000  0.757         0.017    0.0   \n",
       "Null                0.000           0.000  1.000         0.000    0.0   \n",
       "Online Video        0.078           0.019  0.764         0.000    0.0   \n",
       "Start               0.000           0.143  0.000         0.142    0.0   \n",
       "Paid Search         0.053           0.048  0.771         0.029    0.0   \n",
       "Facebook            0.053           0.024  0.673         0.026    0.0   \n",
       "Instagram           0.058           0.024  0.630         0.024    0.0   \n",
       "\n",
       "                Paid Search  Facebook  Instagram  \n",
       "Converted             0.000     0.000      0.000  \n",
       "Online Display        0.092     0.054      0.029  \n",
       "Null                  0.000     0.000      0.000  \n",
       "Online Video          0.048     0.059      0.032  \n",
       "Start                 0.317     0.278      0.119  \n",
       "Paid Search           0.000     0.064      0.034  \n",
       "Facebook              0.051     0.000      0.173  \n",
       "Instagram             0.046     0.219      0.000  "
      ]
     },
     "execution_count": 15,
     "metadata": {},
     "output_type": "execute_result"
    }
   ],
   "source": [
    "trans_matrix"
   ]
  },
  {
   "cell_type": "markdown",
   "metadata": {},
   "source": [
    "##  Calculate dentify removal effects for each of our marketing channels\n",
    "\n",
    "We can now iteratively go through each of our channels and assess the impact it would have on overall conversion if we were to remove a channel from our state-space. "
   ]
  },
  {
   "cell_type": "code",
   "execution_count": 16,
   "metadata": {},
   "outputs": [],
   "source": [
    "def removal_effects(df, conversion_rate):\n",
    "    removal_effects_dict = {}\n",
    "    channels = [channel for channel in df.columns if channel not in ['Start',\n",
    "                                                                     'Null',\n",
    "                                                                     'Converted']]\n",
    "    for channel in channels:\n",
    "        removal_df = df.drop(channel, axis=1).drop(channel, axis=0)\n",
    "        for column in removal_df.columns:\n",
    "            row_sum = np.sum(list(removal_df.loc[column]))\n",
    "            null_pct = float(1) - row_sum\n",
    "            if null_pct != 0:\n",
    "                removal_df.loc[column]['Null'] = null_pct\n",
    "            removal_df.loc['Null']['Null'] = 1.0\n",
    "        \n",
    "        removal_to_conv = removal_df[\n",
    "            ['Null', 'Converted']].drop(['Null', 'Converted'], axis=0)\n",
    "        removal_to_non_conv = removal_df.drop(\n",
    "            ['Null', 'Converted'], axis=1).drop(['Null', 'Converted'], axis=0)\n",
    "        \n",
    "        \n",
    "        removal_inv_diff = np.linalg.inv(\n",
    "            np.identity(\n",
    "                len(removal_to_non_conv.columns)) - np.asarray(removal_to_non_conv))\n",
    "        \n",
    "        \n",
    "        removal_dot_prod = np.dot(removal_inv_diff, np.asarray(removal_to_conv))\n",
    "        \n",
    "        removal_cvr = pd.DataFrame(removal_dot_prod,\n",
    "                                   index=removal_to_conv.index)[[1]].loc['Start'].values[0]\n",
    "       \n",
    "        removal_effect = 1 - removal_cvr / conversion_rate\n",
    "        removal_effects_dict[channel] = removal_effect\n",
    "\n",
    "    return removal_effects_dict\n",
    "\n",
    "\n",
    "removal_effects_dict = removal_effects(trans_matrix, base_conversion_rate)"
   ]
  },
  {
   "cell_type": "code",
   "execution_count": 17,
   "metadata": {},
   "outputs": [
    {
     "data": {
      "text/plain": [
       "{'Online Display': 0.15859269716978952,\n",
       " 'Online Video': 0.21107903201081113,\n",
       " 'Paid Search': 0.33380466585734037,\n",
       " 'Facebook': 0.35808310876301885,\n",
       " 'Instagram': 0.22186848407313675}"
      ]
     },
     "execution_count": 17,
     "metadata": {},
     "output_type": "execute_result"
    }
   ],
   "source": [
    "removal_effects_dict"
   ]
  },
  {
   "cell_type": "markdown",
   "metadata": {},
   "source": [
    "The resulting removal effects dictionary can then be used to calculate the Markov Chain attributions for each of our marketing channels"
   ]
  },
  {
   "cell_type": "code",
   "execution_count": 248,
   "metadata": {},
   "outputs": [
    {
     "data": {
      "text/plain": [
       "{'Facebook': 4921.373084541543,\n",
       " 'Online Display': 2179.6443679022686,\n",
       " 'Online Video': 2900.9987944909517,\n",
       " 'Instagram': 3049.2853728774808,\n",
       " 'Paid Search': 4587.698380187758}"
      ]
     },
     "execution_count": 248,
     "metadata": {},
     "output_type": "execute_result"
    }
   ],
   "source": [
    "def markov_chain_allocations(removal_effects, total_conversions):\n",
    "    re_sum = np.sum(list(removal_effects.values()))\n",
    "\n",
    "    return {k: (v / re_sum) * total_conversions for k, v in removal_effects.items()}\n",
    "\n",
    "\n",
    "attributions = markov_chain_allocations(removal_effects_dict, total_conversions)\n",
    "attributions"
   ]
  },
  {
   "cell_type": "markdown",
   "metadata": {},
   "source": [
    "## References\n",
    "\n",
    "https://towardsdatascience.com/marketing-channel-attribution-with-markov-chains-in-python-part-2-the-complete-walkthrough-733c65b23323\n",
    "\n",
    "\n",
    "https://serhiipuzyrov.com/2019/07/markov-chain-attribution-simple-explanation-of-removal-effect/\n",
    "\n",
    "\n",
    "https://towardsdatascience.com/multi-channel-marketing-attribution-with-markov-6b744c0b119a\n",
    "\n",
    "\n",
    "https://inside.getyourguide.com/blog/2020/10/8/selecting-and-designing-a-fractional-attribution-model"
   ]
  },
  {
   "cell_type": "code",
   "execution_count": null,
   "metadata": {},
   "outputs": [],
   "source": []
  }
 ],
 "metadata": {
  "kernelspec": {
   "display_name": "Python 3",
   "language": "python",
   "name": "python3"
  },
  "language_info": {
   "codemirror_mode": {
    "name": "ipython",
    "version": 3
   },
   "file_extension": ".py",
   "mimetype": "text/x-python",
   "name": "python",
   "nbconvert_exporter": "python",
   "pygments_lexer": "ipython3",
   "version": "3.6.5"
  }
 },
 "nbformat": 4,
 "nbformat_minor": 2
}
